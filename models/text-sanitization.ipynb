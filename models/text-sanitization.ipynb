{
 "cells": [
  {
   "cell_type": "code",
   "execution_count": 1,
   "id": "0d7aed1a",
   "metadata": {},
   "outputs": [
    {
     "name": "stdout",
     "output_type": "stream",
     "text": [
      "Requirement already satisfied: python-docx in c:\\users\\sanu\\appdata\\local\\packages\\pythonsoftwarefoundation.python.3.10_qbz5n2kfra8p0\\localcache\\local-packages\\python310\\site-packages (1.1.2)\n",
      "Requirement already satisfied: nltk in c:\\users\\sanu\\appdata\\local\\packages\\pythonsoftwarefoundation.python.3.10_qbz5n2kfra8p0\\localcache\\local-packages\\python310\\site-packages (3.9.1)\n",
      "Requirement already satisfied: textblob in c:\\users\\sanu\\appdata\\local\\packages\\pythonsoftwarefoundation.python.3.10_qbz5n2kfra8p0\\localcache\\local-packages\\python310\\site-packages (0.18.0.post0)\n",
      "Requirement already satisfied: lxml>=3.1.0 in c:\\users\\sanu\\appdata\\local\\packages\\pythonsoftwarefoundation.python.3.10_qbz5n2kfra8p0\\localcache\\local-packages\\python310\\site-packages (from python-docx) (5.3.0)\n",
      "Requirement already satisfied: typing-extensions>=4.9.0 in c:\\users\\sanu\\appdata\\local\\packages\\pythonsoftwarefoundation.python.3.10_qbz5n2kfra8p0\\localcache\\local-packages\\python310\\site-packages (from python-docx) (4.9.0)\n",
      "Requirement already satisfied: click in c:\\users\\sanu\\appdata\\local\\packages\\pythonsoftwarefoundation.python.3.10_qbz5n2kfra8p0\\localcache\\local-packages\\python310\\site-packages (from nltk) (8.1.7)\n",
      "Requirement already satisfied: joblib in c:\\users\\sanu\\appdata\\local\\packages\\pythonsoftwarefoundation.python.3.10_qbz5n2kfra8p0\\localcache\\local-packages\\python310\\site-packages (from nltk) (1.4.2)\n",
      "Requirement already satisfied: regex>=2021.8.3 in c:\\users\\sanu\\appdata\\local\\packages\\pythonsoftwarefoundation.python.3.10_qbz5n2kfra8p0\\localcache\\local-packages\\python310\\site-packages (from nltk) (2023.12.25)\n",
      "Requirement already satisfied: tqdm in c:\\users\\sanu\\appdata\\local\\packages\\pythonsoftwarefoundation.python.3.10_qbz5n2kfra8p0\\localcache\\local-packages\\python310\\site-packages (from nltk) (4.66.1)\n",
      "Requirement already satisfied: colorama in c:\\users\\sanu\\appdata\\local\\packages\\pythonsoftwarefoundation.python.3.10_qbz5n2kfra8p0\\localcache\\local-packages\\python310\\site-packages (from click->nltk) (0.4.5)\n"
     ]
    }
   ],
   "source": [
    "!pip install python-docx nltk textblob\n",
    "import docx\n",
    "import nltk\n",
    "from nltk.corpus import words, stopwords\n",
    "from nltk.tokenize import word_tokenize\n",
    "from textblob import TextBlob\n",
    "import re"
   ]
  },
  {
   "cell_type": "markdown",
   "id": "eeb349a6",
   "metadata": {},
   "source": [
    "### NLTK downoloads"
   ]
  },
  {
   "cell_type": "code",
   "execution_count": 2,
   "id": "2f34c1c8",
   "metadata": {
    "scrolled": true
   },
   "outputs": [
    {
     "name": "stderr",
     "output_type": "stream",
     "text": [
      "[nltk_data] Downloading package punkt_tab to\n",
      "[nltk_data]     C:\\Users\\sanu\\AppData\\Roaming\\nltk_data...\n",
      "[nltk_data]   Package punkt_tab is already up-to-date!\n",
      "[nltk_data] Downloading package words to\n",
      "[nltk_data]     C:\\Users\\sanu\\AppData\\Roaming\\nltk_data...\n",
      "[nltk_data]   Package words is already up-to-date!\n",
      "[nltk_data] Downloading package stopwords to\n",
      "[nltk_data]     C:\\Users\\sanu\\AppData\\Roaming\\nltk_data...\n",
      "[nltk_data]   Package stopwords is already up-to-date!\n"
     ]
    },
    {
     "data": {
      "text/plain": [
       "True"
      ]
     },
     "execution_count": 2,
     "metadata": {},
     "output_type": "execute_result"
    }
   ],
   "source": [
    "nltk.download('punkt_tab')\n",
    "nltk.download('words')\n",
    "nltk.download('stopwords')"
   ]
  },
  {
   "cell_type": "code",
   "execution_count": 3,
   "id": "3dc47acf",
   "metadata": {},
   "outputs": [],
   "source": [
    "# Function to read .docx file and remove images\n",
    "def read_docx_without_images(file_path):\n",
    "    doc = docx.Document(file_path)\n",
    "    full_text = []\n",
    "    \n",
    "    for para in doc.paragraphs:\n",
    "        new_paragraph = []\n",
    "        for run in para.runs:\n",
    "            if not run.element.xpath('.//w:drawing') and not run.element.xpath('.//w:pict'):\n",
    "                new_paragraph.append(run.text)  # Only add text if it's not an image\n",
    "        full_text.append(''.join(new_paragraph))\n",
    "    \n",
    "    return '\\n'.join(full_text)"
   ]
  },
  {
   "cell_type": "code",
   "execution_count": 4,
   "id": "cf3fd263",
   "metadata": {},
   "outputs": [],
   "source": [
    "\n",
    "# Function to sanitize text\n",
    "def sanitize_text(text):\n",
    "    # Remove special characters\n",
    "    text = re.sub(r'[^\\w\\s]', '', text)\n",
    "\n",
    "    # Tokenize text\n",
    "    words_in_text = word_tokenize(text.lower())\n",
    "\n",
    "    # Remove stopwords and non-English words\n",
    "    english_words = set(words.words())\n",
    "    stop_words = set(stopwords.words('english'))\n",
    "    sanitized_words = [word for word in words_in_text if word in english_words and word not in stop_words]\n",
    "\n",
    "    # Correct spelling using TextBlob\n",
    "    sanitized_text = ' '.join(sanitized_words)\n",
    "    corrected_text = str(TextBlob(sanitized_text).correct())\n",
    "\n",
    "    return corrected_text"
   ]
  },
  {
   "cell_type": "code",
   "execution_count": 5,
   "id": "afc6f8b0",
   "metadata": {},
   "outputs": [
    {
     "name": "stdout",
     "output_type": "stream",
     "text": [
      "Transcript\n",
      "Invalid Date, InvalidDate\n",
      "\n",
      "Sanu Ghosh   0:04\n",
      "Yeah, the transcription has been started now.\n",
      "So can you tell me what is Circuit breaker?\n",
      "\n",
      "Anchal Sharma   0:14\n",
      "Yeah, so Circuit Breaker basically manages the state of the system.\n",
      "So The thing is state of circuit breaker changes from close to open when failure rate is above a certain threshold which you can configure in your system.\n",
      "So let's say you have 100 request out of A10 fail. So you can configure the percentage there that above 10 if there is any failure the circuit will open.\n",
      "After that, once the threshold is reached, then all the other request from the client side will be rejected in the back end system and no further calls will be permitted and after a certain time duration has elapsed which also you can configure the circuit breaker state changes from.\n",
      "Open to half open and it allows.\n",
      "A certain number of calls to see to basically check whether the system is now available or not. If it is available, the state will change to open, otherwise it will be.\n",
      "It will still be closed.\n",
      "\n",
      "Sanu Ghosh   1:28\n",
      "OK.\n",
      "That's fine.\n",
      "So can you tell me?\n",
      "What is?\n",
      "Underhad problem.\n",
      "Circuit breaker.\n",
      "\n",
      "Anchal Sharma   1:52\n",
      "Not sure on the Thunderbird problem, but I think.\n",
      "Let's say a scenario where.\n",
      "You are accessing like you are hitting calls.\n",
      "You are basically hitting the APIs of another service and that service is basically down, not down.\n",
      "Actually it is not that responsive for the time.\n",
      "So instead of giving the response within one second, it is taking three or four seconds. But in your service, which is the caller service, you have configured the.\n",
      "Timeout to be two second, let's say.\n",
      "Now you have hit one request to service S2. It has not responded within time.\n",
      "It took three seconds, but you have.\n",
      "You will get the timeout error in your API, so you will try retry again because you have configured retry also so you will retry and now there is a second call from your your service to service S2.\n",
      "So, but the service S2 has send the response for the call one.\n",
      "To service S1, but like after a delay of one second.\n",
      "So based on this like you will be getting more APIs, you will be retrying more which will make which will which will result in more traffic in service 2.\n",
      "So the service to which was already like slow in response now because it has more traffic on its side, it will be more slow.\n",
      "So which can result in the downtime of that service or it can crash?\n",
      "So that is what Thunder problem is basically.\n",
      "\n",
      "Sanu Ghosh   3:39\n",
      "You're on that next fence.\n",
      "So are you comfortable with Kafka and microservice?\n",
      "\n",
      "Anchal Sharma   3:49\n",
      "Yeah, I will. Don't got time.\n",
      "\n",
      "Sanu Ghosh   3:50\n",
      "OK.\n",
      "So any design pattern you have worked in microservice?\n",
      "\n",
      "Anchal Sharma   3:59\n",
      "Yeah, one is cqrs pattern.\n",
      "And then we have one is a circuit breaker pattern which I already explained you.\n",
      "And.\n",
      "So first let me describe the cqrs pattern.\n",
      "So cqrs means command and query responsibility segregation.\n",
      "So what happens in in microservices you have lot of logic so you want to separate out your command.\n",
      "Queries from the from your normal command to from your normal queries.\n",
      "So let's say the database has. Your system will be having more queries as compared to like.\n",
      "Thread operation normal like write operations. You have more read operations so you can segregate on when you segregate the logic. For command query you will also segregate the databases for it.\n",
      "So yeah, that is basically a secure segregation and.\n",
      "Socket breaker, I already explained.\n",
      "Then we have API gateway.\n",
      "So API gateway means that you have a single point of entry for all your services, and the single point of entry which acts as an API gateway can handle your.\n",
      "Basically, it can simplify a request. It can handle authentication and authorization, and it can also handle the load balancing.\n",
      "So that is API gateway and.\n",
      "Then we have database per service which states that in microservices design.\n",
      "For every every microservice, every service should be having its own dedicated database.\n",
      "Not. Not No2 services should.\n",
      "It should be sharing in any database.\n",
      "Yeah. So.\n",
      "Let's.\n",
      "\n",
      "Sanu Ghosh   6:07\n",
      "I'm from my end.\n",
      "Thank you for your time.\n",
      "\n",
      "Anchal Sharma   6:10\n",
      "Yeah. Thank you so much. Thank you.\n",
      "\n",
      "Sanu Ghosh stopped transcription\n"
     ]
    }
   ],
   "source": [
    "# Path to your .docx file\n",
    "file_path = '../docs/data-2.docx'\n",
    "\n",
    "# Read the document without images\n",
    "transcript_text = read_docx_without_images(file_path)\n",
    "\n",
    "# Sanitize the transcript text\n",
    "# sanitized_text = sanitize_text(transcript_text)\n",
    "\n",
    "# Display sanitized text\n",
    "print(transcript_text)"
   ]
  },
  {
   "cell_type": "markdown",
   "id": "fa1a032a",
   "metadata": {},
   "source": [
    "### ceate a DataFrame"
   ]
  },
  {
   "cell_type": "code",
   "execution_count": 6,
   "id": "2763563e",
   "metadata": {},
   "outputs": [],
   "source": [
    "import re\n",
    "import pandas as pd"
   ]
  },
  {
   "cell_type": "code",
   "execution_count": 7,
   "id": "15fbfecf",
   "metadata": {},
   "outputs": [],
   "source": [
    "def extract_transcript_date(text):\n",
    "    # Regular expression to match the date and time (e.g., September 20, 2024, 7:15AM)\n",
    "    date_pattern = r'Transcript\\s*\\n([A-Za-z]+\\s+\\d{1,2},\\s+\\d{4},\\s+\\d{1,2}:\\d{2}[APM]+)'\n",
    "    match = re.search(date_pattern, text)\n",
    "    if match:\n",
    "        return match.group(1)\n",
    "    return None"
   ]
  },
  {
   "cell_type": "code",
   "execution_count": 8,
   "id": "0eba2cb3",
   "metadata": {},
   "outputs": [],
   "source": [
    "def sanitize_speaker(speaker):\n",
    "    # Remove unwanted newlines and spaces\n",
    "    speaker = speaker.replace('\\n', ' ').strip()\n",
    "    \n",
    "    # Remove any occurrences of 'AM', 'PM', etc. if they appear mistakenly\n",
    "    speaker = re.sub(r'\\b(?:AM|PM)\\b', '', speaker).strip()\n",
    "    \n",
    "    return speaker"
   ]
  },
  {
   "cell_type": "code",
   "execution_count": 9,
   "id": "7f41067b",
   "metadata": {},
   "outputs": [],
   "source": [
    "# Function to extract speaker, conversation, and time\n",
    "def extract_conversations(text):\n",
    "    \n",
    "    # remove the first 2 lines and the last line to extract only the conversation\n",
    "    lines = text.strip().split('\\n', 2)[2]\n",
    "    lines = '\\n'.join(lines.splitlines()[:-1])\n",
    "    \n",
    "    # Regular expression to match the pattern <Speaker><Time><Conversation>\n",
    "    pattern = r'([A-Za-z\\s]+[A-Za-z])\\s+(\\d+:\\d+)\\s*\\n([^\\n]+(?:\\n(?![A-Za-z\\s]+\\s+\\d+:\\d+).*)*)'\n",
    "    \n",
    "    # Find all matches\n",
    "    matches = re.findall(pattern, lines, re.MULTILINE)\n",
    "    \n",
    "    # Sanitize the speaker names\n",
    "    sanitized_matches = [(sanitize_speaker(speaker), time, conversation.replace('\\n', ' ').strip()) for speaker, time, conversation in matches]\n",
    "    \n",
    "    # Create a DataFrame from the matches\n",
    "    df = pd.DataFrame(sanitized_matches, columns=[\"Speaker\", \"Time\", \"Conversation\"])\n",
    "    \n",
    "    # Remove unnecessary line breaks in conversation text\n",
    "    df['Conversation'] = df['Conversation'].str.replace('\\n', ' ').str.strip()\n",
    "    \n",
    "    return df"
   ]
  },
  {
   "cell_type": "code",
   "execution_count": 10,
   "id": "beba0ab3",
   "metadata": {},
   "outputs": [
    {
     "name": "stdout",
     "output_type": "stream",
     "text": [
      "Transcript Date: None\n"
     ]
    }
   ],
   "source": [
    "pd.set_option('display.max_rows', None)\n",
    "\n",
    "# Extract the transcript date\n",
    "transcript_date = extract_transcript_date(transcript_text)\n",
    "print(\"Transcript Date:\", transcript_date)\n",
    "\n",
    "# Extract conversations from the transcript\n",
    "df_conversations = extract_conversations(transcript_text)\n",
    "pd.set_option('display.max_colwidth', None)"
   ]
  },
  {
   "cell_type": "code",
   "execution_count": 11,
   "id": "8d6fb77a",
   "metadata": {},
   "outputs": [],
   "source": [
    "transcript_date"
   ]
  },
  {
   "cell_type": "code",
   "execution_count": 12,
   "id": "a7701371",
   "metadata": {},
   "outputs": [
    {
     "data": {
      "text/html": [
       "<div>\n",
       "<style scoped>\n",
       "    .dataframe tbody tr th:only-of-type {\n",
       "        vertical-align: middle;\n",
       "    }\n",
       "\n",
       "    .dataframe tbody tr th {\n",
       "        vertical-align: top;\n",
       "    }\n",
       "\n",
       "    .dataframe thead th {\n",
       "        text-align: right;\n",
       "    }\n",
       "</style>\n",
       "<table border=\"1\" class=\"dataframe\">\n",
       "  <thead>\n",
       "    <tr style=\"text-align: right;\">\n",
       "      <th></th>\n",
       "      <th>Speaker</th>\n",
       "      <th>Time</th>\n",
       "      <th>Conversation</th>\n",
       "    </tr>\n",
       "  </thead>\n",
       "  <tbody>\n",
       "    <tr>\n",
       "      <th>0</th>\n",
       "      <td>Sanu Ghosh</td>\n",
       "      <td>0:04</td>\n",
       "      <td>Yeah, the transcription has been started now. So can you tell me what is Circuit breaker?</td>\n",
       "    </tr>\n",
       "    <tr>\n",
       "      <th>1</th>\n",
       "      <td>Anchal Sharma</td>\n",
       "      <td>0:14</td>\n",
       "      <td>Yeah, so Circuit Breaker basically manages the state of the system. So The thing is state of circuit breaker changes from close to open when failure rate is above a certain threshold which you can configure in your system. So let's say you have 100 request out of A10 fail. So you can configure the percentage there that above 10 if there is any failure the circuit will open. After that, once the threshold is reached, then all the other request from the client side will be rejected in the back end system and no further calls will be permitted and after a certain time duration has elapsed which also you can configure the circuit breaker state changes from. Open to half open and it allows. A certain number of calls to see to basically check whether the system is now available or not. If it is available, the state will change to open, otherwise it will be. It will still be closed.</td>\n",
       "    </tr>\n",
       "    <tr>\n",
       "      <th>2</th>\n",
       "      <td>Sanu Ghosh</td>\n",
       "      <td>1:28</td>\n",
       "      <td>OK. That's fine. So can you tell me? What is? Underhad problem. Circuit breaker.</td>\n",
       "    </tr>\n",
       "    <tr>\n",
       "      <th>3</th>\n",
       "      <td>Anchal Sharma</td>\n",
       "      <td>1:52</td>\n",
       "      <td>Not sure on the Thunderbird problem, but I think. Let's say a scenario where. You are accessing like you are hitting calls. You are basically hitting the APIs of another service and that service is basically down, not down. Actually it is not that responsive for the time. So instead of giving the response within one second, it is taking three or four seconds. But in your service, which is the caller service, you have configured the. Timeout to be two second, let's say. Now you have hit one request to service S2. It has not responded within time. It took three seconds, but you have. You will get the timeout error in your API, so you will try retry again because you have configured retry also so you will retry and now there is a second call from your your service to service S2. So, but the service S2 has send the response for the call one. To service S1, but like after a delay of one second. So based on this like you will be getting more APIs, you will be retrying more which will make which will which will result in more traffic in service 2. So the service to which was already like slow in response now because it has more traffic on its side, it will be more slow. So which can result in the downtime of that service or it can crash? So that is what Thunder problem is basically.</td>\n",
       "    </tr>\n",
       "    <tr>\n",
       "      <th>4</th>\n",
       "      <td>Sanu Ghosh</td>\n",
       "      <td>3:39</td>\n",
       "      <td>You're on that next fence. So are you comfortable with Kafka and microservice?</td>\n",
       "    </tr>\n",
       "    <tr>\n",
       "      <th>5</th>\n",
       "      <td>Anchal Sharma</td>\n",
       "      <td>3:49</td>\n",
       "      <td>Yeah, I will. Don't got time.</td>\n",
       "    </tr>\n",
       "    <tr>\n",
       "      <th>6</th>\n",
       "      <td>Sanu Ghosh</td>\n",
       "      <td>3:50</td>\n",
       "      <td>OK. So any design pattern you have worked in microservice?</td>\n",
       "    </tr>\n",
       "    <tr>\n",
       "      <th>7</th>\n",
       "      <td>Anchal Sharma</td>\n",
       "      <td>3:59</td>\n",
       "      <td>Yeah, one is cqrs pattern. And then we have one is a circuit breaker pattern which I already explained you. And. So first let me describe the cqrs pattern. So cqrs means command and query responsibility segregation. So what happens in in microservices you have lot of logic so you want to separate out your command. Queries from the from your normal command to from your normal queries. So let's say the database has. Your system will be having more queries as compared to like. Thread operation normal like write operations. You have more read operations so you can segregate on when you segregate the logic. For command query you will also segregate the databases for it. So yeah, that is basically a secure segregation and. Socket breaker, I already explained. Then we have API gateway. So API gateway means that you have a single point of entry for all your services, and the single point of entry which acts as an API gateway can handle your. Basically, it can simplify a request. It can handle authentication and authorization, and it can also handle the load balancing. So that is API gateway and. Then we have database per service which states that in microservices design. For every every microservice, every service should be having its own dedicated database. Not. Not No2 services should. It should be sharing in any database. Yeah. So. Let's.</td>\n",
       "    </tr>\n",
       "    <tr>\n",
       "      <th>8</th>\n",
       "      <td>Sanu Ghosh</td>\n",
       "      <td>6:07</td>\n",
       "      <td>I'm from my end. Thank you for your time.</td>\n",
       "    </tr>\n",
       "    <tr>\n",
       "      <th>9</th>\n",
       "      <td>Anchal Sharma</td>\n",
       "      <td>6:10</td>\n",
       "      <td>Yeah. Thank you so much. Thank you.</td>\n",
       "    </tr>\n",
       "  </tbody>\n",
       "</table>\n",
       "</div>"
      ],
      "text/plain": [
       "         Speaker  Time   \n",
       "0     Sanu Ghosh  0:04  \\\n",
       "1  Anchal Sharma  0:14   \n",
       "2     Sanu Ghosh  1:28   \n",
       "3  Anchal Sharma  1:52   \n",
       "4     Sanu Ghosh  3:39   \n",
       "5  Anchal Sharma  3:49   \n",
       "6     Sanu Ghosh  3:50   \n",
       "7  Anchal Sharma  3:59   \n",
       "8     Sanu Ghosh  6:07   \n",
       "9  Anchal Sharma  6:10   \n",
       "\n",
       "                                                                                                                                                                                                                                                                                                                                                                                                                                                                                                                                                                                                                                                                                                                                                                                                                                                                                                                                                                                                                                                                                                                                                                                                                                                                                                                                                                                                  Conversation  \n",
       "0                                                                                                                                                                                                                                                                                                                                                                                                                                                                                                                                                                                                                                                                                                                                                                                                                                                                                                                                                                                                                                                                                                                                                                                                                                                                                                                    Yeah, the transcription has been started now. So can you tell me what is Circuit breaker?  \n",
       "1                                                                                                                                                                                                                                                                                                                                                                                                                                                                                     Yeah, so Circuit Breaker basically manages the state of the system. So The thing is state of circuit breaker changes from close to open when failure rate is above a certain threshold which you can configure in your system. So let's say you have 100 request out of A10 fail. So you can configure the percentage there that above 10 if there is any failure the circuit will open. After that, once the threshold is reached, then all the other request from the client side will be rejected in the back end system and no further calls will be permitted and after a certain time duration has elapsed which also you can configure the circuit breaker state changes from. Open to half open and it allows. A certain number of calls to see to basically check whether the system is now available or not. If it is available, the state will change to open, otherwise it will be. It will still be closed.  \n",
       "2                                                                                                                                                                                                                                                                                                                                                                                                                                                                                                                                                                                                                                                                                                                                                                                                                                                                                                                                                                                                                                                                                                                                                                                                                                                                                                                             OK. That's fine. So can you tell me? What is? Underhad problem. Circuit breaker.  \n",
       "3                                                             Not sure on the Thunderbird problem, but I think. Let's say a scenario where. You are accessing like you are hitting calls. You are basically hitting the APIs of another service and that service is basically down, not down. Actually it is not that responsive for the time. So instead of giving the response within one second, it is taking three or four seconds. But in your service, which is the caller service, you have configured the. Timeout to be two second, let's say. Now you have hit one request to service S2. It has not responded within time. It took three seconds, but you have. You will get the timeout error in your API, so you will try retry again because you have configured retry also so you will retry and now there is a second call from your your service to service S2. So, but the service S2 has send the response for the call one. To service S1, but like after a delay of one second. So based on this like you will be getting more APIs, you will be retrying more which will make which will which will result in more traffic in service 2. So the service to which was already like slow in response now because it has more traffic on its side, it will be more slow. So which can result in the downtime of that service or it can crash? So that is what Thunder problem is basically.  \n",
       "4                                                                                                                                                                                                                                                                                                                                                                                                                                                                                                                                                                                                                                                                                                                                                                                                                                                                                                                                                                                                                                                                                                                                                                                                                                                                                                                               You're on that next fence. So are you comfortable with Kafka and microservice?  \n",
       "5                                                                                                                                                                                                                                                                                                                                                                                                                                                                                                                                                                                                                                                                                                                                                                                                                                                                                                                                                                                                                                                                                                                                                                                                                                                                                                                                                                                Yeah, I will. Don't got time.  \n",
       "6                                                                                                                                                                                                                                                                                                                                                                                                                                                                                                                                                                                                                                                                                                                                                                                                                                                                                                                                                                                                                                                                                                                                                                                                                                                                                                                                                   OK. So any design pattern you have worked in microservice?  \n",
       "7  Yeah, one is cqrs pattern. And then we have one is a circuit breaker pattern which I already explained you. And. So first let me describe the cqrs pattern. So cqrs means command and query responsibility segregation. So what happens in in microservices you have lot of logic so you want to separate out your command. Queries from the from your normal command to from your normal queries. So let's say the database has. Your system will be having more queries as compared to like. Thread operation normal like write operations. You have more read operations so you can segregate on when you segregate the logic. For command query you will also segregate the databases for it. So yeah, that is basically a secure segregation and. Socket breaker, I already explained. Then we have API gateway. So API gateway means that you have a single point of entry for all your services, and the single point of entry which acts as an API gateway can handle your. Basically, it can simplify a request. It can handle authentication and authorization, and it can also handle the load balancing. So that is API gateway and. Then we have database per service which states that in microservices design. For every every microservice, every service should be having its own dedicated database. Not. Not No2 services should. It should be sharing in any database. Yeah. So. Let's.  \n",
       "8                                                                                                                                                                                                                                                                                                                                                                                                                                                                                                                                                                                                                                                                                                                                                                                                                                                                                                                                                                                                                                                                                                                                                                                                                                                                                                                                                                    I'm from my end. Thank you for your time.  \n",
       "9                                                                                                                                                                                                                                                                                                                                                                                                                                                                                                                                                                                                                                                                                                                                                                                                                                                                                                                                                                                                                                                                                                                                                                                                                                                                                                                                                                          Yeah. Thank you so much. Thank you.  "
      ]
     },
     "execution_count": 12,
     "metadata": {},
     "output_type": "execute_result"
    }
   ],
   "source": [
    "# Display the DataFrame\n",
    "df_conversations"
   ]
  },
  {
   "cell_type": "code",
   "execution_count": null,
   "id": "519d0c39",
   "metadata": {},
   "outputs": [],
   "source": []
  },
  {
   "cell_type": "code",
   "execution_count": null,
   "id": "3b72a125",
   "metadata": {},
   "outputs": [],
   "source": []
  }
 ],
 "metadata": {
  "kernelspec": {
   "display_name": "Python 3 (ipykernel)",
   "language": "python",
   "name": "python3"
  },
  "language_info": {
   "codemirror_mode": {
    "name": "ipython",
    "version": 3
   },
   "file_extension": ".py",
   "mimetype": "text/x-python",
   "name": "python",
   "nbconvert_exporter": "python",
   "pygments_lexer": "ipython3",
   "version": "3.10.11"
  }
 },
 "nbformat": 4,
 "nbformat_minor": 5
}
