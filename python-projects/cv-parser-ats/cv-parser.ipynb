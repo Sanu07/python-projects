{
 "cells": [
  {
   "cell_type": "code",
   "execution_count": 5,
   "metadata": {},
   "outputs": [],
   "source": [
    "import fitz"
   ]
  },
  {
   "cell_type": "code",
   "execution_count": 6,
   "metadata": {},
   "outputs": [],
   "source": [
    "pdf_file_path = \"../../datasets/resumes/pdf/0a0fc7e0-ee85-401f-b682-06942d64ac97-Dhruvik's-Resume.pdf\";\n",
    "doc = fitz.open(pdf_file_path)"
   ]
  },
  {
   "cell_type": "code",
   "execution_count": 7,
   "metadata": {},
   "outputs": [
    {
     "name": "stdout",
     "output_type": "stream",
     "text": [
      "DHRUVIK MALAVIYA\n",
      "malaviya.dhruvik@gmail.com | +91-9712050513 | 🔗GITHUB | 🔗LINKEDIN\n",
      "Education\n",
      "Marwadi University Rajkot, India\n",
      "2021 - 2024\n",
      "●\n",
      "Bachelor of Engineering (B.E) in Computer Engineering | CGPA: 7.58/10\n",
      "Marwadi University Rajkot, India\n",
      "2018 - 2021\n",
      "●\n",
      "Diploma in Electrical Engineering | CGPA: 9.22/10\n",
      "Skills\n",
      "Proficient in Java | javascript | PHP | React.js | Web Development | Node.js |DataStructure and Algorithms\n",
      "Familiar with Bootstrap | MySQL | Git | MongoDB | Express.js | Laravel | Postman\n",
      "Work Experience\n",
      "RedGates It Solutions | php developer intern\n",
      "Mar,23 - Jun,23\n",
      "●Working on an ecommerce website which used tech stack as MySQL and Laravel.\n",
      "●Also managed the admin panel of the website.\n",
      "Oasis Infobyte | Web development and designing intern\n",
      "Feb,23 - Mar,23\n",
      "●Learned HTML,CSS,Javascript while completing tasks in this firm.\n",
      "●Debugged codes for assigned tasks.\n",
      "Projects\n",
      "CodeBoost (🔗Github) (🔗Deployed)\n",
      "May,23 - July,23\n",
      "CodeBoost is a fully functional ed-tech platform that enables users to create, consume, and rate educational content.\n",
      "●CodeBoost is a versatile and intuitive ed-tech platform that is designed to provide an immersive learning experience to\n",
      "students and a platform for instructors to showcase their expertise.\n",
      "●The front end of the platform is built using ReactJS.\n",
      "●The front end communicates with the back end using RESTful API calls.\n",
      "●The back end of the platform is built using NodeJS and ExpressJS.it also provides APIs for the front end to consume,\n",
      "which include functionalities such as user authentication, course creation, ratings and course consumption.\n",
      "●The database for the platform is built using MongoDB, which is useful for storing course content, user data, and other\n",
      "relevant information related to the platform.\n",
      "eDiscuss (🔗Github) (🔗Deployed)\n",
      "Jan,23 - Feb,23\n",
      "eDiscuss is a community based site with many other features.\n",
      "●eDiscuss responsive website with signup and login and other features.\n",
      "●Users can sign up with email verification and then only they can write any post or view.\n",
      "●The whole website used PHP as the backend and bootstrap with HTML, CSS and Javascript as frontend.\n",
      "●The application used a Mysql database for storing users data.\n",
      "●At every post users can comment their views on posts which are also notified to posted users through email.\n",
      "●Also users can search any available query at any pages on the website.\n",
      "Completions\n",
      "●\n",
      "Solved 450+ problems on leetcode - (🔗LeetCode Profile)\n",
      "●\n",
      "Database programming with SQL\n",
      "●\n",
      "Java placement course at Apna College\n",
      "\n"
     ]
    }
   ],
   "source": [
    "cv_text = \"\"\n",
    "for page in doc:\n",
    "    cv_text += page.get_text(\"text\")\n",
    "print(cv_text)"
   ]
  },
  {
   "cell_type": "code",
   "execution_count": 17,
   "metadata": {},
   "outputs": [],
   "source": [
    "import spacy\n",
    "from spacy import displacy"
   ]
  },
  {
   "cell_type": "code",
   "execution_count": 21,
   "metadata": {},
   "outputs": [
    {
     "name": "stderr",
     "output_type": "stream",
     "text": [
      "/Users/sanughosh/Documents/python-env/myenv3_11/lib/python3.11/site-packages/spacy/displacy/__init__.py:106: UserWarning: [W011] It looks like you're calling displacy.serve from within a Jupyter notebook or a similar environment. This likely means you're already running a local web server, so there's no need to make displaCy start another one. Instead, you should be able to replace displacy.serve with displacy.render to show the visualization.\n",
      "  warnings.warn(Warnings.W011)\n"
     ]
    },
    {
     "data": {
      "text/html": [
       "<span class=\"tex2jax_ignore\"><!DOCTYPE html>\n",
       "<html lang=\"en\">\n",
       "    <head>\n",
       "        <title>displaCy</title>\n",
       "    </head>\n",
       "\n",
       "    <body style=\"font-size: 16px; font-family: -apple-system, BlinkMacSystemFont, 'Segoe UI', Helvetica, Arial, sans-serif, 'Apple Color Emoji', 'Segoe UI Emoji', 'Segoe UI Symbol'; padding: 4rem 2rem; direction: ltr\">\n",
       "<figure style=\"margin-bottom: 6rem\">\n",
       "<div class=\"entities\" style=\"line-height: 2.5; direction: ltr\">DHRUVIK MALAVIYA<br>malaviya.dhruvik@gmail.com \n",
       "<mark class=\"entity\" style=\"background: #aa9cfc; padding: 0.45em 0.6em; margin: 0 0.25em; line-height: 1; border-radius: 0.35em;\">\n",
       "    | +91-9712050513\n",
       "    <span style=\"font-size: 0.8em; font-weight: bold; line-height: 1; border-radius: 0.35em; vertical-align: middle; margin-left: 0.5rem\">PERSON</span>\n",
       "</mark>\n",
       " | 🔗\n",
       "<mark class=\"entity\" style=\"background: #7aecec; padding: 0.45em 0.6em; margin: 0 0.25em; line-height: 1; border-radius: 0.35em;\">\n",
       "    GITHUB\n",
       "    <span style=\"font-size: 0.8em; font-weight: bold; line-height: 1; border-radius: 0.35em; vertical-align: middle; margin-left: 0.5rem\">ORG</span>\n",
       "</mark>\n",
       " | 🔗LINKEDIN<br>Education<br>\n",
       "<mark class=\"entity\" style=\"background: #7aecec; padding: 0.45em 0.6em; margin: 0 0.25em; line-height: 1; border-radius: 0.35em;\">\n",
       "    Marwadi University Rajkot\n",
       "    <span style=\"font-size: 0.8em; font-weight: bold; line-height: 1; border-radius: 0.35em; vertical-align: middle; margin-left: 0.5rem\">ORG</span>\n",
       "</mark>\n",
       ", \n",
       "<mark class=\"entity\" style=\"background: #feca74; padding: 0.45em 0.6em; margin: 0 0.25em; line-height: 1; border-radius: 0.35em;\">\n",
       "    India\n",
       "    <span style=\"font-size: 0.8em; font-weight: bold; line-height: 1; border-radius: 0.35em; vertical-align: middle; margin-left: 0.5rem\">GPE</span>\n",
       "</mark>\n",
       "<br>\n",
       "<mark class=\"entity\" style=\"background: #bfe1d9; padding: 0.45em 0.6em; margin: 0 0.25em; line-height: 1; border-radius: 0.35em;\">\n",
       "    2021 - 2024\n",
       "    <span style=\"font-size: 0.8em; font-weight: bold; line-height: 1; border-radius: 0.35em; vertical-align: middle; margin-left: 0.5rem\">DATE</span>\n",
       "</mark>\n",
       "<br>●<br>Bachelor of Engineering (B.E) in \n",
       "<mark class=\"entity\" style=\"background: #7aecec; padding: 0.45em 0.6em; margin: 0 0.25em; line-height: 1; border-radius: 0.35em;\">\n",
       "    Computer Engineering\n",
       "    <span style=\"font-size: 0.8em; font-weight: bold; line-height: 1; border-radius: 0.35em; vertical-align: middle; margin-left: 0.5rem\">ORG</span>\n",
       "</mark>\n",
       " | CGPA: \n",
       "<mark class=\"entity\" style=\"background: #e4e7d2; padding: 0.45em 0.6em; margin: 0 0.25em; line-height: 1; border-radius: 0.35em;\">\n",
       "    7.58/10\n",
       "    <span style=\"font-size: 0.8em; font-weight: bold; line-height: 1; border-radius: 0.35em; vertical-align: middle; margin-left: 0.5rem\">CARDINAL</span>\n",
       "</mark>\n",
       "<br>\n",
       "<mark class=\"entity\" style=\"background: #7aecec; padding: 0.45em 0.6em; margin: 0 0.25em; line-height: 1; border-radius: 0.35em;\">\n",
       "    Marwadi University Rajkot\n",
       "    <span style=\"font-size: 0.8em; font-weight: bold; line-height: 1; border-radius: 0.35em; vertical-align: middle; margin-left: 0.5rem\">ORG</span>\n",
       "</mark>\n",
       ", \n",
       "<mark class=\"entity\" style=\"background: #feca74; padding: 0.45em 0.6em; margin: 0 0.25em; line-height: 1; border-radius: 0.35em;\">\n",
       "    India\n",
       "    <span style=\"font-size: 0.8em; font-weight: bold; line-height: 1; border-radius: 0.35em; vertical-align: middle; margin-left: 0.5rem\">GPE</span>\n",
       "</mark>\n",
       "<br>\n",
       "<mark class=\"entity\" style=\"background: #bfe1d9; padding: 0.45em 0.6em; margin: 0 0.25em; line-height: 1; border-radius: 0.35em;\">\n",
       "    2018 - 2021\n",
       "    <span style=\"font-size: 0.8em; font-weight: bold; line-height: 1; border-radius: 0.35em; vertical-align: middle; margin-left: 0.5rem\">DATE</span>\n",
       "</mark>\n",
       "<br>●<br>Diploma in \n",
       "<mark class=\"entity\" style=\"background: #7aecec; padding: 0.45em 0.6em; margin: 0 0.25em; line-height: 1; border-radius: 0.35em;\">\n",
       "    Electrical Engineering\n",
       "    <span style=\"font-size: 0.8em; font-weight: bold; line-height: 1; border-radius: 0.35em; vertical-align: middle; margin-left: 0.5rem\">ORG</span>\n",
       "</mark>\n",
       " | CGPA: \n",
       "<mark class=\"entity\" style=\"background: #e4e7d2; padding: 0.45em 0.6em; margin: 0 0.25em; line-height: 1; border-radius: 0.35em;\">\n",
       "    9.22/10\n",
       "    <span style=\"font-size: 0.8em; font-weight: bold; line-height: 1; border-radius: 0.35em; vertical-align: middle; margin-left: 0.5rem\">CARDINAL</span>\n",
       "</mark>\n",
       "<br>Skills<br>Proficient in \n",
       "<mark class=\"entity\" style=\"background: #aa9cfc; padding: 0.45em 0.6em; margin: 0 0.25em; line-height: 1; border-radius: 0.35em;\">\n",
       "    Java\n",
       "    <span style=\"font-size: 0.8em; font-weight: bold; line-height: 1; border-radius: 0.35em; vertical-align: middle; margin-left: 0.5rem\">PERSON</span>\n",
       "</mark>\n",
       " | javascript | \n",
       "<mark class=\"entity\" style=\"background: #7aecec; padding: 0.45em 0.6em; margin: 0 0.25em; line-height: 1; border-radius: 0.35em;\">\n",
       "    PHP\n",
       "    <span style=\"font-size: 0.8em; font-weight: bold; line-height: 1; border-radius: 0.35em; vertical-align: middle; margin-left: 0.5rem\">ORG</span>\n",
       "</mark>\n",
       " | React.js | Web Development | Node.js |DataStructure and \n",
       "<mark class=\"entity\" style=\"background: #aa9cfc; padding: 0.45em 0.6em; margin: 0 0.25em; line-height: 1; border-radius: 0.35em;\">\n",
       "    Algorithms\n",
       "Familiar\n",
       "    <span style=\"font-size: 0.8em; font-weight: bold; line-height: 1; border-radius: 0.35em; vertical-align: middle; margin-left: 0.5rem\">PERSON</span>\n",
       "</mark>\n",
       " with \n",
       "<mark class=\"entity\" style=\"background: #7aecec; padding: 0.45em 0.6em; margin: 0 0.25em; line-height: 1; border-radius: 0.35em;\">\n",
       "    Bootstrap\n",
       "    <span style=\"font-size: 0.8em; font-weight: bold; line-height: 1; border-radius: 0.35em; vertical-align: middle; margin-left: 0.5rem\">ORG</span>\n",
       "</mark>\n",
       " | MySQL | Git | MongoDB | \n",
       "<mark class=\"entity\" style=\"background: #7aecec; padding: 0.45em 0.6em; margin: 0 0.25em; line-height: 1; border-radius: 0.35em;\">\n",
       "    Express.js\n",
       "    <span style=\"font-size: 0.8em; font-weight: bold; line-height: 1; border-radius: 0.35em; vertical-align: middle; margin-left: 0.5rem\">ORG</span>\n",
       "</mark>\n",
       " | \n",
       "<mark class=\"entity\" style=\"background: #7aecec; padding: 0.45em 0.6em; margin: 0 0.25em; line-height: 1; border-radius: 0.35em;\">\n",
       "    Laravel\n",
       "    <span style=\"font-size: 0.8em; font-weight: bold; line-height: 1; border-radius: 0.35em; vertical-align: middle; margin-left: 0.5rem\">ORG</span>\n",
       "</mark>\n",
       " | Postman<br>Work Experience<br>RedGates It Solutions | php developer intern<br>Mar,23 - Jun,23<br>●Working on an ecommerce website which used tech stack as MySQL and Laravel.<br>●Also managed the admin panel of the website.<br>Oasis \n",
       "<mark class=\"entity\" style=\"background: #c887fb; padding: 0.45em 0.6em; margin: 0 0.25em; line-height: 1; border-radius: 0.35em;\">\n",
       "    Infobyte\n",
       "    <span style=\"font-size: 0.8em; font-weight: bold; line-height: 1; border-radius: 0.35em; vertical-align: middle; margin-left: 0.5rem\">NORP</span>\n",
       "</mark>\n",
       " | Web development and designing intern<br>\n",
       "<mark class=\"entity\" style=\"background: #ff8197; padding: 0.45em 0.6em; margin: 0 0.25em; line-height: 1; border-radius: 0.35em;\">\n",
       "    Feb,23 - Mar,23\n",
       "    <span style=\"font-size: 0.8em; font-weight: bold; line-height: 1; border-radius: 0.35em; vertical-align: middle; margin-left: 0.5rem\">LAW</span>\n",
       "</mark>\n",
       "<br>●Learned HTML,\n",
       "<mark class=\"entity\" style=\"background: #7aecec; padding: 0.45em 0.6em; margin: 0 0.25em; line-height: 1; border-radius: 0.35em;\">\n",
       "    CSS\n",
       "    <span style=\"font-size: 0.8em; font-weight: bold; line-height: 1; border-radius: 0.35em; vertical-align: middle; margin-left: 0.5rem\">ORG</span>\n",
       "</mark>\n",
       ",\n",
       "<mark class=\"entity\" style=\"background: #aa9cfc; padding: 0.45em 0.6em; margin: 0 0.25em; line-height: 1; border-radius: 0.35em;\">\n",
       "    Javascript\n",
       "    <span style=\"font-size: 0.8em; font-weight: bold; line-height: 1; border-radius: 0.35em; vertical-align: middle; margin-left: 0.5rem\">PERSON</span>\n",
       "</mark>\n",
       " while completing tasks in this firm.<br>●Debugged codes for assigned tasks.<br>Projects<br>\n",
       "<mark class=\"entity\" style=\"background: #7aecec; padding: 0.45em 0.6em; margin: 0 0.25em; line-height: 1; border-radius: 0.35em;\">\n",
       "    CodeBoost\n",
       "    <span style=\"font-size: 0.8em; font-weight: bold; line-height: 1; border-radius: 0.35em; vertical-align: middle; margin-left: 0.5rem\">ORG</span>\n",
       "</mark>\n",
       " (🔗Github) (🔗\n",
       "<mark class=\"entity\" style=\"background: #aa9cfc; padding: 0.45em 0.6em; margin: 0 0.25em; line-height: 1; border-radius: 0.35em;\">\n",
       "    Deployed\n",
       "    <span style=\"font-size: 0.8em; font-weight: bold; line-height: 1; border-radius: 0.35em; vertical-align: middle; margin-left: 0.5rem\">PERSON</span>\n",
       "</mark>\n",
       ")<br>May,23 - July,23<br>\n",
       "<mark class=\"entity\" style=\"background: #7aecec; padding: 0.45em 0.6em; margin: 0 0.25em; line-height: 1; border-radius: 0.35em;\">\n",
       "    CodeBoost\n",
       "    <span style=\"font-size: 0.8em; font-weight: bold; line-height: 1; border-radius: 0.35em; vertical-align: middle; margin-left: 0.5rem\">ORG</span>\n",
       "</mark>\n",
       " is a fully functional \n",
       "<mark class=\"entity\" style=\"background: #aa9cfc; padding: 0.45em 0.6em; margin: 0 0.25em; line-height: 1; border-radius: 0.35em;\">\n",
       "    ed-tech\n",
       "    <span style=\"font-size: 0.8em; font-weight: bold; line-height: 1; border-radius: 0.35em; vertical-align: middle; margin-left: 0.5rem\">PERSON</span>\n",
       "</mark>\n",
       " platform that enables users to create, consume, and rate educational content.<br>●\n",
       "<mark class=\"entity\" style=\"background: #7aecec; padding: 0.45em 0.6em; margin: 0 0.25em; line-height: 1; border-radius: 0.35em;\">\n",
       "    CodeBoost\n",
       "    <span style=\"font-size: 0.8em; font-weight: bold; line-height: 1; border-radius: 0.35em; vertical-align: middle; margin-left: 0.5rem\">ORG</span>\n",
       "</mark>\n",
       " is a versatile and intuitive \n",
       "<mark class=\"entity\" style=\"background: #aa9cfc; padding: 0.45em 0.6em; margin: 0 0.25em; line-height: 1; border-radius: 0.35em;\">\n",
       "    ed-tech\n",
       "    <span style=\"font-size: 0.8em; font-weight: bold; line-height: 1; border-radius: 0.35em; vertical-align: middle; margin-left: 0.5rem\">PERSON</span>\n",
       "</mark>\n",
       " platform that is designed to provide an immersive learning experience to<br>students and a platform for instructors to showcase their expertise.<br>●The front end of the platform is built using ReactJS.<br>●The front end communicates with the back end using RESTful \n",
       "<mark class=\"entity\" style=\"background: #7aecec; padding: 0.45em 0.6em; margin: 0 0.25em; line-height: 1; border-radius: 0.35em;\">\n",
       "    API\n",
       "    <span style=\"font-size: 0.8em; font-weight: bold; line-height: 1; border-radius: 0.35em; vertical-align: middle; margin-left: 0.5rem\">ORG</span>\n",
       "</mark>\n",
       " calls.<br>●The back end of the platform is built using \n",
       "<mark class=\"entity\" style=\"background: #7aecec; padding: 0.45em 0.6em; margin: 0 0.25em; line-height: 1; border-radius: 0.35em;\">\n",
       "    NodeJS\n",
       "    <span style=\"font-size: 0.8em; font-weight: bold; line-height: 1; border-radius: 0.35em; vertical-align: middle; margin-left: 0.5rem\">ORG</span>\n",
       "</mark>\n",
       " and \n",
       "<mark class=\"entity\" style=\"background: #7aecec; padding: 0.45em 0.6em; margin: 0 0.25em; line-height: 1; border-radius: 0.35em;\">\n",
       "    ExpressJS.it\n",
       "    <span style=\"font-size: 0.8em; font-weight: bold; line-height: 1; border-radius: 0.35em; vertical-align: middle; margin-left: 0.5rem\">ORG</span>\n",
       "</mark>\n",
       " also provides APIs for the front end to consume,<br>which include functionalities such as user authentication, course creation, ratings and course consumption.<br>●The database for the platform is built using MongoDB, which is useful for storing course content, user data, and other<br>relevant information related to the platform.<br>eDiscuss (🔗Github) (🔗\n",
       "<mark class=\"entity\" style=\"background: #aa9cfc; padding: 0.45em 0.6em; margin: 0 0.25em; line-height: 1; border-radius: 0.35em;\">\n",
       "    Deployed\n",
       "    <span style=\"font-size: 0.8em; font-weight: bold; line-height: 1; border-radius: 0.35em; vertical-align: middle; margin-left: 0.5rem\">PERSON</span>\n",
       "</mark>\n",
       ")<br>\n",
       "<mark class=\"entity\" style=\"background: #bfeeb7; padding: 0.45em 0.6em; margin: 0 0.25em; line-height: 1; border-radius: 0.35em;\">\n",
       "    Jan,23 - Feb,23\n",
       "eDiscuss\n",
       "    <span style=\"font-size: 0.8em; font-weight: bold; line-height: 1; border-radius: 0.35em; vertical-align: middle; margin-left: 0.5rem\">PRODUCT</span>\n",
       "</mark>\n",
       " is a community based site with many other features.<br>●eDiscuss responsive website with signup and login and other features.<br>●Users can sign up with email verification and then only they can write any post or view.<br>●The whole website used \n",
       "<mark class=\"entity\" style=\"background: #7aecec; padding: 0.45em 0.6em; margin: 0 0.25em; line-height: 1; border-radius: 0.35em;\">\n",
       "    PHP\n",
       "    <span style=\"font-size: 0.8em; font-weight: bold; line-height: 1; border-radius: 0.35em; vertical-align: middle; margin-left: 0.5rem\">ORG</span>\n",
       "</mark>\n",
       " as the backend and bootstrap with \n",
       "<mark class=\"entity\" style=\"background: #7aecec; padding: 0.45em 0.6em; margin: 0 0.25em; line-height: 1; border-radius: 0.35em;\">\n",
       "    HTML\n",
       "    <span style=\"font-size: 0.8em; font-weight: bold; line-height: 1; border-radius: 0.35em; vertical-align: middle; margin-left: 0.5rem\">ORG</span>\n",
       "</mark>\n",
       ", \n",
       "<mark class=\"entity\" style=\"background: #7aecec; padding: 0.45em 0.6em; margin: 0 0.25em; line-height: 1; border-radius: 0.35em;\">\n",
       "    CSS\n",
       "    <span style=\"font-size: 0.8em; font-weight: bold; line-height: 1; border-radius: 0.35em; vertical-align: middle; margin-left: 0.5rem\">ORG</span>\n",
       "</mark>\n",
       " and \n",
       "<mark class=\"entity\" style=\"background: #aa9cfc; padding: 0.45em 0.6em; margin: 0 0.25em; line-height: 1; border-radius: 0.35em;\">\n",
       "    Javascript\n",
       "    <span style=\"font-size: 0.8em; font-weight: bold; line-height: 1; border-radius: 0.35em; vertical-align: middle; margin-left: 0.5rem\">PERSON</span>\n",
       "</mark>\n",
       " as frontend.<br>●The application used a Mysql database for storing users data.<br>●At every post users can comment their views on posts which are also notified to posted users through email.<br>●Also users can search any available query at any pages on the website.<br>Completions<br>●<br>Solved \n",
       "<mark class=\"entity\" style=\"background: #e4e7d2; padding: 0.45em 0.6em; margin: 0 0.25em; line-height: 1; border-radius: 0.35em;\">\n",
       "    450\n",
       "    <span style=\"font-size: 0.8em; font-weight: bold; line-height: 1; border-radius: 0.35em; vertical-align: middle; margin-left: 0.5rem\">CARDINAL</span>\n",
       "</mark>\n",
       "+ problems on leetcode - (🔗LeetCode Profile)<br>●<br>Database programming with \n",
       "<mark class=\"entity\" style=\"background: #7aecec; padding: 0.45em 0.6em; margin: 0 0.25em; line-height: 1; border-radius: 0.35em;\">\n",
       "    SQL\n",
       "    <span style=\"font-size: 0.8em; font-weight: bold; line-height: 1; border-radius: 0.35em; vertical-align: middle; margin-left: 0.5rem\">ORG</span>\n",
       "</mark>\n",
       "<br>●<br>\n",
       "<mark class=\"entity\" style=\"background: #aa9cfc; padding: 0.45em 0.6em; margin: 0 0.25em; line-height: 1; border-radius: 0.35em;\">\n",
       "    Java\n",
       "    <span style=\"font-size: 0.8em; font-weight: bold; line-height: 1; border-radius: 0.35em; vertical-align: middle; margin-left: 0.5rem\">PERSON</span>\n",
       "</mark>\n",
       " placement course at \n",
       "<mark class=\"entity\" style=\"background: #7aecec; padding: 0.45em 0.6em; margin: 0 0.25em; line-height: 1; border-radius: 0.35em;\">\n",
       "    Apna College\n",
       "\n",
       "    <span style=\"font-size: 0.8em; font-weight: bold; line-height: 1; border-radius: 0.35em; vertical-align: middle; margin-left: 0.5rem\">ORG</span>\n",
       "</mark>\n",
       "</div>\n",
       "</figure>\n",
       "</body>\n",
       "</html></span>"
      ],
      "text/plain": [
       "<IPython.core.display.HTML object>"
      ]
     },
     "metadata": {},
     "output_type": "display_data"
    },
    {
     "name": "stdout",
     "output_type": "stream",
     "text": [
      "\n",
      "Using the 'ent' visualizer\n",
      "Serving on http://0.0.0.0:8080 ...\n",
      "\n",
      "Shutting down server on port 8080.\n"
     ]
    }
   ],
   "source": [
    "# nlp = spacy.load(\"en_core_web_sm\")\n",
    "nlp = spacy.load(\"en_core_web_sm\", disable=[\"tok2vec\", \"tagger\", \"parser\", \"attribute_ruler\", \"lemmatizer\"])\n",
    "nlp_doc = nlp(cv_text)\n",
    "# for ent in nlp_doc.ents:\n",
    "#     print(ent.text, ent.label_)\n",
    "# displacy.serve(nlp_doc, style=\"ent\", port=8080)"
   ]
  },
  {
   "cell_type": "code",
   "execution_count": 10,
   "metadata": {},
   "outputs": [],
   "source": [
    "import re"
   ]
  },
  {
   "cell_type": "code",
   "execution_count": 11,
   "metadata": {},
   "outputs": [],
   "source": [
    "def get_contact_info(text: str):\n",
    "    contact_number = None\n",
    "    pattern = r\"\\b(?:\\+?\\d{1,3}[-.\\s]?)?\\(?\\d{3}\\)?[-.\\s]?\\d{3}[-.\\s]?\\d{4}\\b\"\n",
    "    match = re.search(pattern, text)\n",
    "    if match:\n",
    "        contact_number = match.group()\n",
    "    return contact_number"
   ]
  },
  {
   "cell_type": "code",
   "execution_count": 12,
   "metadata": {},
   "outputs": [
    {
     "data": {
      "text/plain": [
       "'91-9712050513'"
      ]
     },
     "execution_count": 12,
     "metadata": {},
     "output_type": "execute_result"
    }
   ],
   "source": [
    "get_contact_info(cv_text)"
   ]
  },
  {
   "cell_type": "code",
   "execution_count": 13,
   "metadata": {},
   "outputs": [],
   "source": [
    "def get_email_address(text: str):\n",
    "    email = None\n",
    "    pattern = r\"\\b[A-Za-z0-9._%+-]+@[A-Za-z0-9.-]+\\.[A-Za-z]{2,}\\b\"\n",
    "    match = re.search(pattern, text)\n",
    "    if match:\n",
    "        email = match.group()\n",
    "    return email"
   ]
  },
  {
   "cell_type": "code",
   "execution_count": 14,
   "metadata": {},
   "outputs": [
    {
     "data": {
      "text/plain": [
       "'malaviya.dhruvik@gmail.com'"
      ]
     },
     "execution_count": 14,
     "metadata": {},
     "output_type": "execute_result"
    }
   ],
   "source": [
    "get_email_address(cv_text)"
   ]
  },
  {
   "cell_type": "code",
   "execution_count": 56,
   "metadata": {},
   "outputs": [],
   "source": [
    "def get_name(text: str):\n",
    "    text = re.sub(r'[^A-Za-z0-9\\s]', '', text)\n",
    "    \n",
    "    lines = text.split('\\n')\n",
    "    \n",
    "    first_3_lines = '|'.join(lines[:1])\n",
    "    \n",
    "    name = None\n",
    "    \n",
    "    name_pattern = r'^[A-Z][A-Za-z]+(?: [A-Z][A-Za-z]+)+$'\n",
    "    name_match = re.search(name_pattern, first_3_lines)\n",
    "    \n",
    "    if name_match:\n",
    "        name = name_match.group(0)\n",
    "        # print(\"Regex Match -->\", name)\n",
    "    \n",
    "    if not name:\n",
    "        name_doc = nlp(first_3_lines)\n",
    "        for ent in name_doc.ents:\n",
    "            if ent.label_ == \"PERSON\":\n",
    "                name = ent.text\n",
    "                # print(\"spaCy Match -->\", name)\n",
    "    \n",
    "    return name"
   ]
  },
  {
   "cell_type": "code",
   "execution_count": 57,
   "metadata": {},
   "outputs": [
    {
     "name": "stdout",
     "output_type": "stream",
     "text": [
      "First 3 Lines:\n",
      " DHRUVIK MALAVIYA\n",
      "Regex Match --> DHRUVIK MALAVIYA\n"
     ]
    },
    {
     "data": {
      "text/plain": [
       "'DHRUVIK MALAVIYA'"
      ]
     },
     "execution_count": 57,
     "metadata": {},
     "output_type": "execute_result"
    }
   ],
   "source": [
    "get_name(cv_text)"
   ]
  },
  {
   "cell_type": "code",
   "execution_count": 58,
   "metadata": {},
   "outputs": [],
   "source": [
    "def extract_metadata_info(text: str):\n",
    "    return {\n",
    "        \"name\": get_name(text),\n",
    "        \"phone\": get_contact_info(text=text),\n",
    "        \"email\": get_email_address(text)\n",
    "    }"
   ]
  },
  {
   "cell_type": "code",
   "execution_count": 60,
   "metadata": {},
   "outputs": [],
   "source": [
    "import chromadb\n",
    "from sentence_transformers import SentenceTransformer\n",
    "import numpy as np"
   ]
  },
  {
   "cell_type": "code",
   "execution_count": 62,
   "metadata": {},
   "outputs": [
    {
     "name": "stderr",
     "output_type": "stream",
     "text": [
      "0.01s - Debugger warning: It seems that frozen modules are being used, which may\n",
      "0.00s - make the debugger miss breakpoints. Please pass -Xfrozen_modules=off\n",
      "0.00s - to python to disable frozen modules.\n",
      "0.00s - Note: Debugging will proceed. Set PYDEVD_DISABLE_FILE_VALIDATION=1 to disable this validation.\n"
     ]
    }
   ],
   "source": [
    "model = SentenceTransformer('all-MiniLM-L6-v2')"
   ]
  },
  {
   "cell_type": "code",
   "execution_count": 63,
   "metadata": {},
   "outputs": [],
   "source": [
    "client = chromadb.Client()"
   ]
  },
  {
   "cell_type": "code",
   "execution_count": 65,
   "metadata": {},
   "outputs": [],
   "source": [
    "collection = client.create_collection(name=\"resumes_collection\")"
   ]
  },
  {
   "cell_type": "code",
   "execution_count": 66,
   "metadata": {},
   "outputs": [],
   "source": [
    "def get_embeddings(text: str):\n",
    "    return model.encode(text).tolist()"
   ]
  },
  {
   "cell_type": "code",
   "execution_count": 75,
   "metadata": {},
   "outputs": [],
   "source": [
    "def store_data_in_chromadb(resume_text: str, resume_info: dict):\n",
    "    embeddings = get_embeddings(resume_text)\n",
    "    name = resume_info.get(\"name\")\n",
    "    phone = resume_info.get(\"phone\")\n",
    "    email = resume_info.get(\"email\")\n",
    "\n",
    "    collection.add(\n",
    "        ids=[email],\n",
    "        documents=[resume_text],\n",
    "        metadatas=[\n",
    "            {\n",
    "                \"name\": name,\n",
    "                \"email\": email,\n",
    "                \"phone\": phone\n",
    "            }\n",
    "        ],\n",
    "        embeddings=embeddings\n",
    "    )"
   ]
  },
  {
   "cell_type": "code",
   "execution_count": 72,
   "metadata": {},
   "outputs": [],
   "source": [
    "def search_resumes(query: str, top_k=2):\n",
    "    \"\"\"Search for the most similar resumes based on a query\"\"\"\n",
    "    # Generate the embedding for the query\n",
    "    query_embedding = get_embeddings(query)\n",
    "    \n",
    "    # Perform the vector search in Chroma\n",
    "    results = collection.query(\n",
    "        query_embeddings=[query_embedding],\n",
    "        n_results=top_k\n",
    "    )\n",
    "    \n",
    "    return results"
   ]
  },
  {
   "cell_type": "code",
   "execution_count": 73,
   "metadata": {},
   "outputs": [
    {
     "name": "stdout",
     "output_type": "stream",
     "text": [
      "First 3 Lines:\n",
      " DHRUVIK MALAVIYA\n",
      "Regex Match --> DHRUVIK MALAVIYA\n"
     ]
    }
   ],
   "source": [
    "metadata = extract_metadata_info(cv_text)"
   ]
  },
  {
   "cell_type": "code",
   "execution_count": 76,
   "metadata": {},
   "outputs": [],
   "source": [
    "store_data_in_chromadb(resume_text=cv_text, resume_info=metadata)"
   ]
  },
  {
   "cell_type": "code",
   "execution_count": 78,
   "metadata": {},
   "outputs": [],
   "source": [
    "query = \"Java\""
   ]
  },
  {
   "cell_type": "code",
   "execution_count": 79,
   "metadata": {},
   "outputs": [
    {
     "name": "stderr",
     "output_type": "stream",
     "text": [
      "Number of requested results 2 is greater than number of elements in index 1, updating n_results = 1\n"
     ]
    }
   ],
   "source": [
    "search_results = search_resumes(query)"
   ]
  },
  {
   "cell_type": "code",
   "execution_count": 80,
   "metadata": {},
   "outputs": [
    {
     "name": "stdout",
     "output_type": "stream",
     "text": [
      "Search Results:\n",
      "['DHRUVIK MALAVIYA\\nmalaviya.dhruvik@gmail.com | +91-9712050513 | 🔗GITHUB | 🔗LINKEDIN\\nEducation\\nMarwadi University Rajkot, India\\n2021 - 2024\\n●\\nBachelor of Engineering (B.E) in Computer Engineering | CGPA: 7.58/10\\nMarwadi University Rajkot, India\\n2018 - 2021\\n●\\nDiploma in Electrical Engineering | CGPA: 9.22/10\\nSkills\\nProficient in Java | javascript | PHP | React.js | Web Development | Node.js |DataStructure and Algorithms\\nFamiliar with Bootstrap | MySQL | Git | MongoDB | Express.js | Laravel | Postman\\nWork Experience\\nRedGates It Solutions | php developer intern\\nMar,23 - Jun,23\\n●Working on an ecommerce website which used tech stack as MySQL and Laravel.\\n●Also managed the admin panel of the website.\\nOasis Infobyte | Web development and designing intern\\nFeb,23 - Mar,23\\n●Learned HTML,CSS,Javascript while completing tasks in this firm.\\n●Debugged codes for assigned tasks.\\nProjects\\nCodeBoost (🔗Github) (🔗Deployed)\\nMay,23 - July,23\\nCodeBoost is a fully functional ed-tech platform that enables users to create, consume, and rate educational content.\\n●CodeBoost is a versatile and intuitive ed-tech platform that is designed to provide an immersive learning experience to\\nstudents and a platform for instructors to showcase their expertise.\\n●The front end of the platform is built using ReactJS.\\n●The front end communicates with the back end using RESTful API calls.\\n●The back end of the platform is built using NodeJS and ExpressJS.it also provides APIs for the front end to consume,\\nwhich include functionalities such as user authentication, course creation, ratings and course consumption.\\n●The database for the platform is built using MongoDB, which is useful for storing course content, user data, and other\\nrelevant information related to the platform.\\neDiscuss (🔗Github) (🔗Deployed)\\nJan,23 - Feb,23\\neDiscuss is a community based site with many other features.\\n●eDiscuss responsive website with signup and login and other features.\\n●Users can sign up with email verification and then only they can write any post or view.\\n●The whole website used PHP as the backend and bootstrap with HTML, CSS and Javascript as frontend.\\n●The application used a Mysql database for storing users data.\\n●At every post users can comment their views on posts which are also notified to posted users through email.\\n●Also users can search any available query at any pages on the website.\\nCompletions\\n●\\nSolved 450+ problems on leetcode - (🔗LeetCode Profile)\\n●\\nDatabase programming with SQL\\n●\\nJava placement course at Apna College\\n']\n"
     ]
    }
   ],
   "source": [
    "print(\"Search Results:\")\n",
    "for result in search_results['documents']:\n",
    "    print(result)"
   ]
  },
  {
   "cell_type": "code",
   "execution_count": 81,
   "metadata": {},
   "outputs": [
    {
     "name": "stdout",
     "output_type": "stream",
     "text": [
      "Search Results:\n",
      "\n",
      "Result 1:\n",
      "Document: ['DHRUVIK MALAVIYA\\nmalaviya.dhruvik@gmail.com | +91-9712050513 | 🔗GITHUB | 🔗LINKEDIN\\nEducation\\nMarwadi University Rajkot, India\\n2021 - 2024\\n●\\nBachelor of Engineering (B.E) in Computer Engineering | CGPA: 7.58/10\\nMarwadi University Rajkot, India\\n2018 - 2021\\n●\\nDiploma in Electrical Engineering | CGPA: 9.22/10\\nSkills\\nProficient in Java | javascript | PHP | React.js | Web Development | Node.js |DataStructure and Algorithms\\nFamiliar with Bootstrap | MySQL | Git | MongoDB | Express.js | Laravel | Postman\\nWork Experience\\nRedGates It Solutions | php developer intern\\nMar,23 - Jun,23\\n●Working on an ecommerce website which used tech stack as MySQL and Laravel.\\n●Also managed the admin panel of the website.\\nOasis Infobyte | Web development and designing intern\\nFeb,23 - Mar,23\\n●Learned HTML,CSS,Javascript while completing tasks in this firm.\\n●Debugged codes for assigned tasks.\\nProjects\\nCodeBoost (🔗Github) (🔗Deployed)\\nMay,23 - July,23\\nCodeBoost is a fully functional ed-tech platform that enables users to create, consume, and rate educational content.\\n●CodeBoost is a versatile and intuitive ed-tech platform that is designed to provide an immersive learning experience to\\nstudents and a platform for instructors to showcase their expertise.\\n●The front end of the platform is built using ReactJS.\\n●The front end communicates with the back end using RESTful API calls.\\n●The back end of the platform is built using NodeJS and ExpressJS.it also provides APIs for the front end to consume,\\nwhich include functionalities such as user authentication, course creation, ratings and course consumption.\\n●The database for the platform is built using MongoDB, which is useful for storing course content, user data, and other\\nrelevant information related to the platform.\\neDiscuss (🔗Github) (🔗Deployed)\\nJan,23 - Feb,23\\neDiscuss is a community based site with many other features.\\n●eDiscuss responsive website with signup and login and other features.\\n●Users can sign up with email verification and then only they can write any post or view.\\n●The whole website used PHP as the backend and bootstrap with HTML, CSS and Javascript as frontend.\\n●The application used a Mysql database for storing users data.\\n●At every post users can comment their views on posts which are also notified to posted users through email.\\n●Also users can search any available query at any pages on the website.\\nCompletions\\n●\\nSolved 450+ problems on leetcode - (🔗LeetCode Profile)\\n●\\nDatabase programming with SQL\\n●\\nJava placement course at Apna College\\n']\n",
      "Metadata: [{'email': 'malaviya.dhruvik@gmail.com', 'name': 'DHRUVIK MALAVIYA', 'phone': '91-9712050513'}]\n"
     ]
    }
   ],
   "source": [
    "print(\"Search Results:\")\n",
    "for i, result in enumerate(search_results['documents']):\n",
    "    # Print document and associated metadata\n",
    "    print(f\"\\nResult {i + 1}:\")\n",
    "    print(\"Document:\", result)\n",
    "    print(\"Metadata:\", search_results['metadatas'][i])"
   ]
  }
 ],
 "metadata": {
  "kernelspec": {
   "display_name": "myenv3_11",
   "language": "python",
   "name": "python3"
  },
  "language_info": {
   "codemirror_mode": {
    "name": "ipython",
    "version": 3
   },
   "file_extension": ".py",
   "mimetype": "text/x-python",
   "name": "python",
   "nbconvert_exporter": "python",
   "pygments_lexer": "ipython3",
   "version": "3.11.9"
  }
 },
 "nbformat": 4,
 "nbformat_minor": 2
}
